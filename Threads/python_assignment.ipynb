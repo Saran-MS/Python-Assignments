{
  "nbformat": 4,
  "nbformat_minor": 0,
  "metadata": {
    "colab": {
      "name": "python assignment.ipynb",
      "provenance": [],
      "collapsed_sections": []
    },
    "kernelspec": {
      "name": "python3",
      "display_name": "Python 3"
    }
  },
  "cells": [
    {
      "cell_type": "markdown",
      "metadata": {
        "id": "5R0XLJMCjOXQ",
        "colab_type": "text"
      },
      "source": [
        "Write a python program to show the implementation of Single Threading vs\n",
        "Multi-Threading. (You can consider any application with three threads and you\n",
        "have to show how these three threads can be executed following the single thread\n",
        "and multi thread methods)."
      ]
    },
    {
      "cell_type": "markdown",
      "metadata": {
        "id": "AMvNDkmzrhxY",
        "colab_type": "text"
      },
      "source": [
        "# Single Threading \n",
        "\n",
        "\n"
      ]
    },
    {
      "cell_type": "code",
      "metadata": {
        "id": "vJ1_uHjvmacp",
        "colab_type": "code",
        "colab": {
          "base_uri": "https://localhost:8080/",
          "height": 286
        },
        "outputId": "4bb98381-7dc4-4f3a-b933-4463b18f31a3"
      },
      "source": [
        "import threading\n",
        "\n",
        "def counter():\n",
        "  val1 =0 \n",
        "  for i in range(5):\n",
        "    val1+=1\n",
        "    print('count val1: {}'.format(val1))\n",
        "\n",
        "def square(n):\n",
        "  val2 = 0\n",
        "  for i in range(5):\n",
        "    val2 = n*n\n",
        "    n = val2\n",
        "    print('square val2: {}'.format(val2))\n",
        "\n",
        "def cube(n):\n",
        "  val3 = 0\n",
        "  for i in range(5): \n",
        "    val3 = n*n*n\n",
        "    n= val3\n",
        "    print('cube val3: {}'.format(val3))\n",
        "\n",
        "if __name__ == \"__main__\": \n",
        "  t1 = threading.Thread(target=counter)\n",
        "  t2 = threading.Thread(target=square,args=(2,))\n",
        "  t3 = threading.Thread(target=cube,args=(2,))\n",
        "\n",
        "  t1.start()\n",
        "  t2.start()\n",
        "  t3.start()\n",
        "\n",
        "  print('Done!')\n",
        "\n",
        "\n",
        "\n",
        "\n"
      ],
      "execution_count": 3,
      "outputs": [
        {
          "output_type": "stream",
          "text": [
            "count val1: 1\n",
            "count val1: 2\n",
            "count val1: 3\n",
            "count val1: 4\n",
            "count val1: 5\n",
            "square val2: 4\n",
            "square val2: 16\n",
            "square val2: 256\n",
            "square val2: 65536\n",
            "square val2: 4294967296\n",
            "cube val3: 8\n",
            "cube val3: 512\n",
            "cube val3: 134217728\n",
            "cube val3: 2417851639229258349412352\n",
            "cube val3: 14134776518227074636666380005943348126619871175004951664972849610340958208\n",
            "Done!\n"
          ],
          "name": "stdout"
        }
      ]
    },
    {
      "cell_type": "markdown",
      "metadata": {
        "id": "3Fglj8FYr0ZB",
        "colab_type": "text"
      },
      "source": [
        "# Multi threading"
      ]
    },
    {
      "cell_type": "code",
      "metadata": {
        "id": "dFBCvkcTr6wS",
        "colab_type": "code",
        "colab": {
          "base_uri": "https://localhost:8080/",
          "height": 370
        },
        "outputId": "7aaa257e-64a8-4a5e-c5f3-82f58c4c7f71"
      },
      "source": [
        "import threading\n",
        "import time\n",
        "\n",
        "def counter():\n",
        "  val1 =0 \n",
        "  for i in range(5):\n",
        "    val1+=1\n",
        "    print('count val1: {}'.format(val1))\n",
        "    time.sleep(0.01)\n",
        "\n",
        "def square(n):\n",
        "  val2 = 0\n",
        "  for i in range(5):\n",
        "    val2 = n*n\n",
        "    n = val2\n",
        "    print('square val2: {}'.format(val2))\n",
        "    time.sleep(0.01)\n",
        "\n",
        "def cube(n):\n",
        "  val3 = 0\n",
        "  for i in range(5): \n",
        "    val3 = n*n*n\n",
        "    n= val3\n",
        "    print('cube val3: {}'.format(val3))\n",
        "    print('')\n",
        "    time.sleep(0.01)\n",
        "\n",
        "if __name__ == \"__main__\": \n",
        "  t1 = threading.Thread(target=counter)\n",
        "  t2 = threading.Thread(target=square,args=(2,))\n",
        "  t3 = threading.Thread(target=cube,args=(2,))\n",
        "\n",
        "  t1.start()\n",
        "  t2.start()\n",
        "  t3.start()\n",
        "\n",
        "  t1.join()\n",
        "  t2.join()\n",
        "  t3.join()\n",
        "\n",
        "  print('Done !')"
      ],
      "execution_count": 14,
      "outputs": [
        {
          "output_type": "stream",
          "text": [
            "count val1: 1\n",
            "square val2: 4\n",
            "cube val3: 8\n",
            "\n",
            "count val1: 2\n",
            "square val2: 16\n",
            "cube val3: 512\n",
            "\n",
            "count val1: 3\n",
            "square val2: 256\n",
            "cube val3: 134217728\n",
            "\n",
            "count val1: 4\n",
            "square val2: 65536\n",
            "cube val3: 2417851639229258349412352\n",
            "\n",
            "count val1: 5\n",
            "square val2: 4294967296\n",
            "cube val3: 14134776518227074636666380005943348126619871175004951664972849610340958208\n",
            "\n",
            "Done !\n"
          ],
          "name": "stdout"
        }
      ]
    },
    {
      "cell_type": "markdown",
      "metadata": {
        "id": "XkE6-0yo26Cr",
        "colab_type": "text"
      },
      "source": [
        "Model Producer-Consumer Strategy using Queue with and without threading and\n",
        "analyse its execution methodology."
      ]
    },
    {
      "cell_type": "markdown",
      "metadata": {
        "id": "ZWYA3eh55uVu",
        "colab_type": "text"
      },
      "source": [
        "# Producer Consumer Problem Queue data structure"
      ]
    },
    {
      "cell_type": "code",
      "metadata": {
        "id": "0HvhFR4k5zCU",
        "colab_type": "code",
        "colab": {
          "base_uri": "https://localhost:8080/",
          "height": 353
        },
        "outputId": "0c6fa9c0-a933-492c-faaf-3bdd2b85a960"
      },
      "source": [
        "from random import randint\n",
        "from time import sleep,ctime\n",
        "from multiprocessing import Queue\n",
        "import threading\n",
        "\n",
        "class MyThread(threading.Thread):\n",
        "    def __init__(self, func, args, name=''):\n",
        "        threading.Thread.__init__(self)\n",
        "        self.name = name\n",
        "        self.func = func\n",
        "        self.args = args\n",
        "    def getResult(self):\n",
        "        return self.res\n",
        "    def run(self):\n",
        "        print (self.name, 'starting at:', \\\n",
        "               ctime())\n",
        "        self.res = self.func(*self.args)\n",
        "        sleep(0.2)\n",
        "        print (self.name, 'finished at:', \\\n",
        "               ctime())\n",
        "def writeQ(queue):\n",
        "    queue.put('xxx', 1)\n",
        "    print ('producing {}'.format(queue.qsize()))\n",
        "\n",
        "def readQ(queue):\n",
        "    val = queue.get(1)\n",
        "    print ('consumed',queue.qsize())\n",
        "\n",
        "def writer(queue, loops):\n",
        "    for i in range(loops):\n",
        "        writeQ(queue)\n",
        "        sleep(randint(1, 2))\n",
        "\n",
        "def reader(queue, loops):\n",
        "    for i in range(loops):\n",
        "        readQ(queue)\n",
        "        sleep(randint(2, 5))\n",
        "\n",
        "funcs = [writer, reader]\n",
        "nfuncs = range(len(funcs))\n",
        "\n",
        "def main():\n",
        "    nloops = randint(2, 4)\n",
        "    q = Queue(32)\n",
        "    threads = []\n",
        "    for i in nfuncs:\n",
        "        t = MyThread(funcs[i], (q, nloops), funcs[i].__name__)\n",
        "        threads.append(t)\n",
        "    for i in nfuncs:\n",
        "        threads[i].start()\n",
        "    for i in nfuncs:\n",
        "        threads[i].join()\n",
        "    print('all DONE')\n",
        "    print('\\n')\n",
        "    print('without thread')\n",
        "    for i in nfuncs:\n",
        "      funcs[i](q,nloops)\n",
        "if __name__ == '__main__':\n",
        "  main()"
      ],
      "execution_count": 29,
      "outputs": [
        {
          "output_type": "stream",
          "text": [
            "writer starting at: Thu Sep 24 04:25:32 2020\n",
            "reader starting at: Thu Sep 24 04:25:32 2020\n",
            "producing 1\n",
            "consumed 0\n",
            "producing 1\n",
            "producing 2\n",
            "consumed 1\n",
            "writer finished at: Thu Sep 24 04:25:37 2020\n",
            "consumed 0\n",
            "reader finished at: Thu Sep 24 04:25:42 2020\n",
            "all DONE\n",
            "\n",
            "\n",
            "without thread\n",
            "producing 1\n",
            "producing 2\n",
            "producing 3\n",
            "consumed 2\n",
            "consumed 1\n",
            "consumed 0\n"
          ],
          "name": "stdout"
        }
      ]
    }
  ]
}